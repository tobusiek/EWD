{
 "cells": [
  {
   "cell_type": "code",
   "execution_count": 66,
   "metadata": {},
   "outputs": [
    {
     "data": {
      "text/plain": [
       "0    1.0\n",
       "1    NaN\n",
       "2    3.5\n",
       "3    NaN\n",
       "4    7.0\n",
       "dtype: float64"
      ]
     },
     "execution_count": 66,
     "metadata": {},
     "output_type": "execute_result"
    }
   ],
   "source": [
    "import pandas as pd\n",
    "import numpy as np\n",
    "from numpy import nan as NA\n",
    "\n",
    "ser = pd.Series([1, NA, 3.5, None, 7])\n",
    "ser\n"
   ]
  },
  {
   "cell_type": "code",
   "execution_count": 67,
   "metadata": {},
   "outputs": [
    {
     "data": {
      "text/plain": [
       "True"
      ]
     },
     "execution_count": 67,
     "metadata": {},
     "output_type": "execute_result"
    }
   ],
   "source": [
    "ser.isna().any()\n"
   ]
  },
  {
   "cell_type": "code",
   "execution_count": 68,
   "metadata": {},
   "outputs": [
    {
     "data": {
      "text/plain": [
       "0    1.0\n",
       "2    3.5\n",
       "4    7.0\n",
       "dtype: float64"
      ]
     },
     "execution_count": 68,
     "metadata": {},
     "output_type": "execute_result"
    }
   ],
   "source": [
    "ser.dropna()\n"
   ]
  },
  {
   "cell_type": "code",
   "execution_count": 69,
   "metadata": {},
   "outputs": [
    {
     "data": {
      "text/html": [
       "<div>\n",
       "<style scoped>\n",
       "    .dataframe tbody tr th:only-of-type {\n",
       "        vertical-align: middle;\n",
       "    }\n",
       "\n",
       "    .dataframe tbody tr th {\n",
       "        vertical-align: top;\n",
       "    }\n",
       "\n",
       "    .dataframe thead th {\n",
       "        text-align: right;\n",
       "    }\n",
       "</style>\n",
       "<table border=\"1\" class=\"dataframe\">\n",
       "  <thead>\n",
       "    <tr style=\"text-align: right;\">\n",
       "      <th></th>\n",
       "      <th>0</th>\n",
       "      <th>1</th>\n",
       "      <th>2</th>\n",
       "    </tr>\n",
       "  </thead>\n",
       "  <tbody>\n",
       "    <tr>\n",
       "      <th>0</th>\n",
       "      <td>0.158635</td>\n",
       "      <td>-1.317386</td>\n",
       "      <td>NaN</td>\n",
       "    </tr>\n",
       "    <tr>\n",
       "      <th>1</th>\n",
       "      <td>1.234348</td>\n",
       "      <td>0.329145</td>\n",
       "      <td>0.307045</td>\n",
       "    </tr>\n",
       "    <tr>\n",
       "      <th>2</th>\n",
       "      <td>NaN</td>\n",
       "      <td>NaN</td>\n",
       "      <td>NaN</td>\n",
       "    </tr>\n",
       "    <tr>\n",
       "      <th>3</th>\n",
       "      <td>0.623923</td>\n",
       "      <td>-0.666902</td>\n",
       "      <td>-0.436461</td>\n",
       "    </tr>\n",
       "  </tbody>\n",
       "</table>\n",
       "</div>"
      ],
      "text/plain": [
       "          0         1         2\n",
       "0  0.158635 -1.317386       NaN\n",
       "1  1.234348  0.329145  0.307045\n",
       "2       NaN       NaN       NaN\n",
       "3  0.623923 -0.666902 -0.436461"
      ]
     },
     "execution_count": 69,
     "metadata": {},
     "output_type": "execute_result"
    }
   ],
   "source": [
    "df = pd.DataFrame(np.random.randn(4, 3))\n",
    "df.loc[2] = None\n",
    "df.iloc[0, 2] = None\n",
    "df\n"
   ]
  },
  {
   "cell_type": "code",
   "execution_count": 70,
   "metadata": {},
   "outputs": [
    {
     "data": {
      "text/html": [
       "<div>\n",
       "<style scoped>\n",
       "    .dataframe tbody tr th:only-of-type {\n",
       "        vertical-align: middle;\n",
       "    }\n",
       "\n",
       "    .dataframe tbody tr th {\n",
       "        vertical-align: top;\n",
       "    }\n",
       "\n",
       "    .dataframe thead th {\n",
       "        text-align: right;\n",
       "    }\n",
       "</style>\n",
       "<table border=\"1\" class=\"dataframe\">\n",
       "  <thead>\n",
       "    <tr style=\"text-align: right;\">\n",
       "      <th></th>\n",
       "      <th>0</th>\n",
       "      <th>1</th>\n",
       "      <th>2</th>\n",
       "    </tr>\n",
       "  </thead>\n",
       "  <tbody>\n",
       "    <tr>\n",
       "      <th>0</th>\n",
       "      <td>False</td>\n",
       "      <td>False</td>\n",
       "      <td>True</td>\n",
       "    </tr>\n",
       "    <tr>\n",
       "      <th>1</th>\n",
       "      <td>False</td>\n",
       "      <td>False</td>\n",
       "      <td>False</td>\n",
       "    </tr>\n",
       "    <tr>\n",
       "      <th>2</th>\n",
       "      <td>True</td>\n",
       "      <td>True</td>\n",
       "      <td>True</td>\n",
       "    </tr>\n",
       "    <tr>\n",
       "      <th>3</th>\n",
       "      <td>False</td>\n",
       "      <td>False</td>\n",
       "      <td>False</td>\n",
       "    </tr>\n",
       "  </tbody>\n",
       "</table>\n",
       "</div>"
      ],
      "text/plain": [
       "       0      1      2\n",
       "0  False  False   True\n",
       "1  False  False  False\n",
       "2   True   True   True\n",
       "3  False  False  False"
      ]
     },
     "execution_count": 70,
     "metadata": {},
     "output_type": "execute_result"
    }
   ],
   "source": [
    "df.isna()\n"
   ]
  },
  {
   "cell_type": "code",
   "execution_count": 71,
   "metadata": {},
   "outputs": [
    {
     "data": {
      "text/plain": [
       "0    True\n",
       "1    True\n",
       "2    True\n",
       "dtype: bool"
      ]
     },
     "execution_count": 71,
     "metadata": {},
     "output_type": "execute_result"
    }
   ],
   "source": [
    "df.isna().any()  # columns\n"
   ]
  },
  {
   "cell_type": "code",
   "execution_count": 72,
   "metadata": {},
   "outputs": [
    {
     "data": {
      "text/plain": [
       "0     True\n",
       "1    False\n",
       "2     True\n",
       "3    False\n",
       "dtype: bool"
      ]
     },
     "execution_count": 72,
     "metadata": {},
     "output_type": "execute_result"
    }
   ],
   "source": [
    "df.T.isna().any()  # rows\n"
   ]
  },
  {
   "cell_type": "code",
   "execution_count": 73,
   "metadata": {},
   "outputs": [
    {
     "data": {
      "text/plain": [
       "2"
      ]
     },
     "execution_count": 73,
     "metadata": {},
     "output_type": "execute_result"
    }
   ],
   "source": [
    "naRows = df.T.isna().any()\n",
    "len(naRows[naRows == True])\n"
   ]
  },
  {
   "cell_type": "code",
   "execution_count": 74,
   "metadata": {},
   "outputs": [
    {
     "data": {
      "text/plain": [
       "(          0         1         2\n",
       " 0  0.158635 -1.317386       NaN\n",
       " 1  1.234348  0.329145  0.307045\n",
       " 2       NaN       NaN       NaN\n",
       " 3  0.623923 -0.666902 -0.436461,\n",
       "           0         1         2\n",
       " 1  1.234348  0.329145  0.307045\n",
       " 3  0.623923 -0.666902 -0.436461,\n",
       "           0         1         2\n",
       " 0  0.158635 -1.317386       NaN\n",
       " 1  1.234348  0.329145  0.307045\n",
       " 3  0.623923 -0.666902 -0.436461,\n",
       "           0         1         2\n",
       " 0  0.158635 -1.317386       NaN\n",
       " 1  1.234348  0.329145  0.307045\n",
       " 3  0.623923 -0.666902 -0.436461,\n",
       "           0         1         2\n",
       " 0  0.158635 -1.317386       NaN\n",
       " 1  1.234348  0.329145  0.307045\n",
       " 2       NaN       NaN       NaN\n",
       " 3  0.623923 -0.666902 -0.436461)"
      ]
     },
     "execution_count": 74,
     "metadata": {},
     "output_type": "execute_result"
    }
   ],
   "source": [
    "df, df.dropna(), df.dropna(how='all'), df.dropna(thresh=1), df.dropna(\n",
    "    axis=1, thresh=2)  # thresh doesnt work on cols?\n"
   ]
  },
  {
   "cell_type": "code",
   "execution_count": 75,
   "metadata": {},
   "outputs": [
    {
     "data": {
      "text/html": [
       "<div>\n",
       "<style scoped>\n",
       "    .dataframe tbody tr th:only-of-type {\n",
       "        vertical-align: middle;\n",
       "    }\n",
       "\n",
       "    .dataframe tbody tr th {\n",
       "        vertical-align: top;\n",
       "    }\n",
       "\n",
       "    .dataframe thead th {\n",
       "        text-align: right;\n",
       "    }\n",
       "</style>\n",
       "<table border=\"1\" class=\"dataframe\">\n",
       "  <thead>\n",
       "    <tr style=\"text-align: right;\">\n",
       "      <th></th>\n",
       "      <th>0</th>\n",
       "      <th>1</th>\n",
       "      <th>2</th>\n",
       "    </tr>\n",
       "  </thead>\n",
       "  <tbody>\n",
       "    <tr>\n",
       "      <th>0</th>\n",
       "      <td>0.158635</td>\n",
       "      <td>-1.317386</td>\n",
       "      <td>0.000000</td>\n",
       "    </tr>\n",
       "    <tr>\n",
       "      <th>1</th>\n",
       "      <td>1.234348</td>\n",
       "      <td>0.329145</td>\n",
       "      <td>0.307045</td>\n",
       "    </tr>\n",
       "    <tr>\n",
       "      <th>2</th>\n",
       "      <td>0.000000</td>\n",
       "      <td>0.000000</td>\n",
       "      <td>0.000000</td>\n",
       "    </tr>\n",
       "    <tr>\n",
       "      <th>3</th>\n",
       "      <td>0.623923</td>\n",
       "      <td>-0.666902</td>\n",
       "      <td>-0.436461</td>\n",
       "    </tr>\n",
       "  </tbody>\n",
       "</table>\n",
       "</div>"
      ],
      "text/plain": [
       "          0         1         2\n",
       "0  0.158635 -1.317386  0.000000\n",
       "1  1.234348  0.329145  0.307045\n",
       "2  0.000000  0.000000  0.000000\n",
       "3  0.623923 -0.666902 -0.436461"
      ]
     },
     "execution_count": 75,
     "metadata": {},
     "output_type": "execute_result"
    }
   ],
   "source": [
    "df.fillna(0)\n"
   ]
  },
  {
   "cell_type": "code",
   "execution_count": 76,
   "metadata": {},
   "outputs": [
    {
     "data": {
      "text/html": [
       "<div>\n",
       "<style scoped>\n",
       "    .dataframe tbody tr th:only-of-type {\n",
       "        vertical-align: middle;\n",
       "    }\n",
       "\n",
       "    .dataframe tbody tr th {\n",
       "        vertical-align: top;\n",
       "    }\n",
       "\n",
       "    .dataframe thead th {\n",
       "        text-align: right;\n",
       "    }\n",
       "</style>\n",
       "<table border=\"1\" class=\"dataframe\">\n",
       "  <thead>\n",
       "    <tr style=\"text-align: right;\">\n",
       "      <th></th>\n",
       "      <th>0</th>\n",
       "      <th>1</th>\n",
       "      <th>2</th>\n",
       "    </tr>\n",
       "  </thead>\n",
       "  <tbody>\n",
       "    <tr>\n",
       "      <th>0</th>\n",
       "      <td>0.158635</td>\n",
       "      <td>-1.317386</td>\n",
       "      <td>3.000000</td>\n",
       "    </tr>\n",
       "    <tr>\n",
       "      <th>1</th>\n",
       "      <td>1.234348</td>\n",
       "      <td>0.329145</td>\n",
       "      <td>0.307045</td>\n",
       "    </tr>\n",
       "    <tr>\n",
       "      <th>2</th>\n",
       "      <td>1.000000</td>\n",
       "      <td>NaN</td>\n",
       "      <td>3.000000</td>\n",
       "    </tr>\n",
       "    <tr>\n",
       "      <th>3</th>\n",
       "      <td>0.623923</td>\n",
       "      <td>-0.666902</td>\n",
       "      <td>-0.436461</td>\n",
       "    </tr>\n",
       "  </tbody>\n",
       "</table>\n",
       "</div>"
      ],
      "text/plain": [
       "          0         1         2\n",
       "0  0.158635 -1.317386  3.000000\n",
       "1  1.234348  0.329145  0.307045\n",
       "2  1.000000       NaN  3.000000\n",
       "3  0.623923 -0.666902 -0.436461"
      ]
     },
     "execution_count": 76,
     "metadata": {},
     "output_type": "execute_result"
    }
   ],
   "source": [
    "df.fillna({0: 1, 2: 3})\n"
   ]
  },
  {
   "cell_type": "code",
   "execution_count": 77,
   "metadata": {},
   "outputs": [
    {
     "data": {
      "text/plain": [
       "(          0         1         2\n",
       " 0  0.158635 -1.317386       NaN\n",
       " 1  1.234348  0.329145  0.307045\n",
       " 2  1.234348  0.329145  0.307045\n",
       " 3  0.623923 -0.666902 -0.436461,\n",
       "           0         1         2\n",
       " 0  0.158635 -1.317386 -1.317386\n",
       " 1  1.234348  0.329145  0.307045\n",
       " 2       NaN       NaN       NaN\n",
       " 3  0.623923 -0.666902 -0.436461)"
      ]
     },
     "execution_count": 77,
     "metadata": {},
     "output_type": "execute_result"
    }
   ],
   "source": [
    "df.fillna(method='ffill'), df.fillna(method='ffill', axis=1)\n"
   ]
  },
  {
   "cell_type": "code",
   "execution_count": 78,
   "metadata": {},
   "outputs": [
    {
     "data": {
      "text/html": [
       "<div>\n",
       "<style scoped>\n",
       "    .dataframe tbody tr th:only-of-type {\n",
       "        vertical-align: middle;\n",
       "    }\n",
       "\n",
       "    .dataframe tbody tr th {\n",
       "        vertical-align: top;\n",
       "    }\n",
       "\n",
       "    .dataframe thead th {\n",
       "        text-align: right;\n",
       "    }\n",
       "</style>\n",
       "<table border=\"1\" class=\"dataframe\">\n",
       "  <thead>\n",
       "    <tr style=\"text-align: right;\">\n",
       "      <th></th>\n",
       "      <th>0</th>\n",
       "      <th>1</th>\n",
       "      <th>2</th>\n",
       "    </tr>\n",
       "  </thead>\n",
       "  <tbody>\n",
       "    <tr>\n",
       "      <th>0</th>\n",
       "      <td>0.158635</td>\n",
       "      <td>-1.317386</td>\n",
       "      <td>0.307045</td>\n",
       "    </tr>\n",
       "    <tr>\n",
       "      <th>1</th>\n",
       "      <td>1.234348</td>\n",
       "      <td>0.329145</td>\n",
       "      <td>0.307045</td>\n",
       "    </tr>\n",
       "    <tr>\n",
       "      <th>2</th>\n",
       "      <td>0.623923</td>\n",
       "      <td>-0.666902</td>\n",
       "      <td>-0.436461</td>\n",
       "    </tr>\n",
       "    <tr>\n",
       "      <th>3</th>\n",
       "      <td>0.623923</td>\n",
       "      <td>-0.666902</td>\n",
       "      <td>-0.436461</td>\n",
       "    </tr>\n",
       "  </tbody>\n",
       "</table>\n",
       "</div>"
      ],
      "text/plain": [
       "          0         1         2\n",
       "0  0.158635 -1.317386  0.307045\n",
       "1  1.234348  0.329145  0.307045\n",
       "2  0.623923 -0.666902 -0.436461\n",
       "3  0.623923 -0.666902 -0.436461"
      ]
     },
     "execution_count": 78,
     "metadata": {},
     "output_type": "execute_result"
    }
   ],
   "source": [
    "df.fillna(method='bfill')\n"
   ]
  },
  {
   "cell_type": "code",
   "execution_count": 79,
   "metadata": {},
   "outputs": [
    {
     "data": {
      "text/plain": [
       "(0    NaN\n",
       " 1    2.0\n",
       " 2    NaN\n",
       " 3    1.0\n",
       " 4    5.0\n",
       " dtype: float64,\n",
       " 0    2.666667\n",
       " 1    2.000000\n",
       " 2    2.666667\n",
       " 3    1.000000\n",
       " 4    5.000000\n",
       " dtype: float64)"
      ]
     },
     "execution_count": 79,
     "metadata": {},
     "output_type": "execute_result"
    }
   ],
   "source": [
    "ser2 = pd.Series([None, 2, None, 1, 5])\n",
    "ser2, ser2.fillna(ser2.mean())\n"
   ]
  },
  {
   "cell_type": "code",
   "execution_count": 80,
   "metadata": {},
   "outputs": [
    {
     "data": {
      "text/plain": [
       "(          0         1         2\n",
       " 0  0.158635 -1.317386       NaN\n",
       " 1  1.234348  0.329145  0.307045\n",
       " 2       NaN       NaN       NaN\n",
       " 3  0.623923 -0.666902 -0.436461,\n",
       "           0         1         2\n",
       " 0  0.158635 -1.317386       NaN\n",
       " 1  1.234348  0.329145  0.307045\n",
       " 2  0.672302       NaN       NaN\n",
       " 3  0.623923 -0.666902 -0.436461)"
      ]
     },
     "execution_count": 80,
     "metadata": {},
     "output_type": "execute_result"
    }
   ],
   "source": [
    "df, df.fillna({0: df[0].mean()})\n"
   ]
  },
  {
   "cell_type": "code",
   "execution_count": 81,
   "metadata": {},
   "outputs": [
    {
     "data": {
      "text/plain": [
       "(  v1  v2\n",
       " 0  a   1\n",
       " 1  b   2\n",
       " 2  c   1\n",
       " 3  a   2\n",
       " 4  b   1\n",
       " 5  c   2\n",
       " 6  a   1\n",
       " 7  b   2\n",
       " 8  c   1,\n",
       " 0    False\n",
       " 1    False\n",
       " 2    False\n",
       " 3    False\n",
       " 4    False\n",
       " 5    False\n",
       " 6     True\n",
       " 7     True\n",
       " 8     True\n",
       " dtype: bool)"
      ]
     },
     "execution_count": 81,
     "metadata": {},
     "output_type": "execute_result"
    }
   ],
   "source": [
    "df1 = pd.DataFrame({'v1': ['a', 'b', 'c']*3, 'v2': [1, 2]*4 + [1]})\n",
    "df1, df1.duplicated()\n"
   ]
  },
  {
   "cell_type": "code",
   "execution_count": 82,
   "metadata": {},
   "outputs": [
    {
     "data": {
      "text/html": [
       "<div>\n",
       "<style scoped>\n",
       "    .dataframe tbody tr th:only-of-type {\n",
       "        vertical-align: middle;\n",
       "    }\n",
       "\n",
       "    .dataframe tbody tr th {\n",
       "        vertical-align: top;\n",
       "    }\n",
       "\n",
       "    .dataframe thead th {\n",
       "        text-align: right;\n",
       "    }\n",
       "</style>\n",
       "<table border=\"1\" class=\"dataframe\">\n",
       "  <thead>\n",
       "    <tr style=\"text-align: right;\">\n",
       "      <th></th>\n",
       "      <th>v1</th>\n",
       "      <th>v2</th>\n",
       "    </tr>\n",
       "  </thead>\n",
       "  <tbody>\n",
       "    <tr>\n",
       "      <th>0</th>\n",
       "      <td>a</td>\n",
       "      <td>1</td>\n",
       "    </tr>\n",
       "    <tr>\n",
       "      <th>1</th>\n",
       "      <td>b</td>\n",
       "      <td>2</td>\n",
       "    </tr>\n",
       "    <tr>\n",
       "      <th>2</th>\n",
       "      <td>c</td>\n",
       "      <td>1</td>\n",
       "    </tr>\n",
       "    <tr>\n",
       "      <th>3</th>\n",
       "      <td>a</td>\n",
       "      <td>2</td>\n",
       "    </tr>\n",
       "    <tr>\n",
       "      <th>4</th>\n",
       "      <td>b</td>\n",
       "      <td>1</td>\n",
       "    </tr>\n",
       "    <tr>\n",
       "      <th>5</th>\n",
       "      <td>c</td>\n",
       "      <td>2</td>\n",
       "    </tr>\n",
       "  </tbody>\n",
       "</table>\n",
       "</div>"
      ],
      "text/plain": [
       "  v1  v2\n",
       "0  a   1\n",
       "1  b   2\n",
       "2  c   1\n",
       "3  a   2\n",
       "4  b   1\n",
       "5  c   2"
      ]
     },
     "execution_count": 82,
     "metadata": {},
     "output_type": "execute_result"
    }
   ],
   "source": [
    "df1.drop_duplicates()\n"
   ]
  },
  {
   "cell_type": "code",
   "execution_count": 83,
   "metadata": {},
   "outputs": [
    {
     "data": {
      "text/html": [
       "<div>\n",
       "<style scoped>\n",
       "    .dataframe tbody tr th:only-of-type {\n",
       "        vertical-align: middle;\n",
       "    }\n",
       "\n",
       "    .dataframe tbody tr th {\n",
       "        vertical-align: top;\n",
       "    }\n",
       "\n",
       "    .dataframe thead th {\n",
       "        text-align: right;\n",
       "    }\n",
       "</style>\n",
       "<table border=\"1\" class=\"dataframe\">\n",
       "  <thead>\n",
       "    <tr style=\"text-align: right;\">\n",
       "      <th></th>\n",
       "      <th>city</th>\n",
       "      <th>pop (thousand)</th>\n",
       "    </tr>\n",
       "  </thead>\n",
       "  <tbody>\n",
       "    <tr>\n",
       "      <th>0</th>\n",
       "      <td>Warszawa</td>\n",
       "      <td>1790</td>\n",
       "    </tr>\n",
       "    <tr>\n",
       "      <th>1</th>\n",
       "      <td>Lublin</td>\n",
       "      <td>337</td>\n",
       "    </tr>\n",
       "    <tr>\n",
       "      <th>2</th>\n",
       "      <td>Grodzisk Maz.</td>\n",
       "      <td>32</td>\n",
       "    </tr>\n",
       "    <tr>\n",
       "      <th>3</th>\n",
       "      <td>Krakow</td>\n",
       "      <td>780</td>\n",
       "    </tr>\n",
       "    <tr>\n",
       "      <th>4</th>\n",
       "      <td>Poznan</td>\n",
       "      <td>543</td>\n",
       "    </tr>\n",
       "    <tr>\n",
       "      <th>5</th>\n",
       "      <td>Lodz</td>\n",
       "      <td>667</td>\n",
       "    </tr>\n",
       "    <tr>\n",
       "      <th>6</th>\n",
       "      <td>Pruszkow</td>\n",
       "      <td>62</td>\n",
       "    </tr>\n",
       "    <tr>\n",
       "      <th>7</th>\n",
       "      <td>Gdansk</td>\n",
       "      <td>470</td>\n",
       "    </tr>\n",
       "    <tr>\n",
       "      <th>8</th>\n",
       "      <td>Wroclaw</td>\n",
       "      <td>642</td>\n",
       "    </tr>\n",
       "  </tbody>\n",
       "</table>\n",
       "</div>"
      ],
      "text/plain": [
       "            city  pop (thousand)\n",
       "0       Warszawa            1790\n",
       "1         Lublin             337\n",
       "2  Grodzisk Maz.              32\n",
       "3         Krakow             780\n",
       "4         Poznan             543\n",
       "5           Lodz             667\n",
       "6       Pruszkow              62\n",
       "7         Gdansk             470\n",
       "8        Wroclaw             642"
      ]
     },
     "execution_count": 83,
     "metadata": {},
     "output_type": "execute_result"
    }
   ],
   "source": [
    "df2 = pd.DataFrame({'city': ['Warszawa', 'Lublin', 'Grodzisk Maz.', 'Krakow', 'Poznan', 'Lodz',\n",
    "                   'Pruszkow', 'Gdansk', 'Wroclaw'], 'pop (thousand)': [1790, 337, 32, 780, 543, 667, 62, +470, 642]})\n",
    "df2\n"
   ]
  },
  {
   "cell_type": "code",
   "execution_count": 84,
   "metadata": {},
   "outputs": [
    {
     "data": {
      "text/html": [
       "<div>\n",
       "<style scoped>\n",
       "    .dataframe tbody tr th:only-of-type {\n",
       "        vertical-align: middle;\n",
       "    }\n",
       "\n",
       "    .dataframe tbody tr th {\n",
       "        vertical-align: top;\n",
       "    }\n",
       "\n",
       "    .dataframe thead th {\n",
       "        text-align: right;\n",
       "    }\n",
       "</style>\n",
       "<table border=\"1\" class=\"dataframe\">\n",
       "  <thead>\n",
       "    <tr style=\"text-align: right;\">\n",
       "      <th></th>\n",
       "      <th>city</th>\n",
       "      <th>pop (thousand)</th>\n",
       "      <th>voivodship</th>\n",
       "    </tr>\n",
       "  </thead>\n",
       "  <tbody>\n",
       "    <tr>\n",
       "      <th>0</th>\n",
       "      <td>Warszawa</td>\n",
       "      <td>1790</td>\n",
       "      <td>Mazowieckie</td>\n",
       "    </tr>\n",
       "    <tr>\n",
       "      <th>1</th>\n",
       "      <td>Lublin</td>\n",
       "      <td>337</td>\n",
       "      <td>Lubelskie</td>\n",
       "    </tr>\n",
       "    <tr>\n",
       "      <th>2</th>\n",
       "      <td>Grodzisk Maz.</td>\n",
       "      <td>32</td>\n",
       "      <td>Mazowieckie</td>\n",
       "    </tr>\n",
       "    <tr>\n",
       "      <th>3</th>\n",
       "      <td>Krakow</td>\n",
       "      <td>780</td>\n",
       "      <td>Malopolskie</td>\n",
       "    </tr>\n",
       "    <tr>\n",
       "      <th>4</th>\n",
       "      <td>Poznan</td>\n",
       "      <td>543</td>\n",
       "      <td>Wielkopolskie</td>\n",
       "    </tr>\n",
       "    <tr>\n",
       "      <th>5</th>\n",
       "      <td>Lodz</td>\n",
       "      <td>667</td>\n",
       "      <td>Lodzkie</td>\n",
       "    </tr>\n",
       "    <tr>\n",
       "      <th>6</th>\n",
       "      <td>Pruszkow</td>\n",
       "      <td>62</td>\n",
       "      <td>Mazowieckie</td>\n",
       "    </tr>\n",
       "    <tr>\n",
       "      <th>7</th>\n",
       "      <td>Gdansk</td>\n",
       "      <td>470</td>\n",
       "      <td>Pomorskie</td>\n",
       "    </tr>\n",
       "    <tr>\n",
       "      <th>8</th>\n",
       "      <td>Wroclaw</td>\n",
       "      <td>642</td>\n",
       "      <td>Dolnoslaskie</td>\n",
       "    </tr>\n",
       "  </tbody>\n",
       "</table>\n",
       "</div>"
      ],
      "text/plain": [
       "            city  pop (thousand)     voivodship\n",
       "0       Warszawa            1790    Mazowieckie\n",
       "1         Lublin             337      Lubelskie\n",
       "2  Grodzisk Maz.              32    Mazowieckie\n",
       "3         Krakow             780    Malopolskie\n",
       "4         Poznan             543  Wielkopolskie\n",
       "5           Lodz             667        Lodzkie\n",
       "6       Pruszkow              62    Mazowieckie\n",
       "7         Gdansk             470      Pomorskie\n",
       "8        Wroclaw             642   Dolnoslaskie"
      ]
     },
     "execution_count": 84,
     "metadata": {},
     "output_type": "execute_result"
    }
   ],
   "source": [
    "cityToVoivodship = {'Warszawa': 'Mazowieckie', 'Krakow': 'Malopolskie', 'Poznan': 'Wielkopolskie', 'Lublin': 'Lubelskie', 'Lodz': 'Lodzkie', 'Gdansk': 'Pomorskie', 'Wroclaw': 'Dolnoslaskie', 'Grodzisk Maz.':'Mazowieckie', 'Pruszkow':'Mazowieckie'}\n",
    "df2['voivodship'] = df2['city'].map(cityToVoivodship)\n",
    "df2"
   ]
  },
  {
   "cell_type": "code",
   "execution_count": 85,
   "metadata": {},
   "outputs": [
    {
     "data": {
      "text/html": [
       "<div>\n",
       "<style scoped>\n",
       "    .dataframe tbody tr th:only-of-type {\n",
       "        vertical-align: middle;\n",
       "    }\n",
       "\n",
       "    .dataframe tbody tr th {\n",
       "        vertical-align: top;\n",
       "    }\n",
       "\n",
       "    .dataframe thead th {\n",
       "        text-align: right;\n",
       "    }\n",
       "</style>\n",
       "<table border=\"1\" class=\"dataframe\">\n",
       "  <thead>\n",
       "    <tr style=\"text-align: right;\">\n",
       "      <th></th>\n",
       "      <th>city</th>\n",
       "      <th>pop (thousand)</th>\n",
       "      <th>voivodship</th>\n",
       "      <th>pop (million)</th>\n",
       "    </tr>\n",
       "  </thead>\n",
       "  <tbody>\n",
       "    <tr>\n",
       "      <th>0</th>\n",
       "      <td>Warszawa</td>\n",
       "      <td>1790</td>\n",
       "      <td>Mazowieckie</td>\n",
       "      <td>1.790</td>\n",
       "    </tr>\n",
       "    <tr>\n",
       "      <th>1</th>\n",
       "      <td>Lublin</td>\n",
       "      <td>337</td>\n",
       "      <td>Lubelskie</td>\n",
       "      <td>0.337</td>\n",
       "    </tr>\n",
       "    <tr>\n",
       "      <th>2</th>\n",
       "      <td>Grodzisk Maz.</td>\n",
       "      <td>32</td>\n",
       "      <td>Mazowieckie</td>\n",
       "      <td>0.032</td>\n",
       "    </tr>\n",
       "    <tr>\n",
       "      <th>3</th>\n",
       "      <td>Krakow</td>\n",
       "      <td>780</td>\n",
       "      <td>Malopolskie</td>\n",
       "      <td>0.780</td>\n",
       "    </tr>\n",
       "    <tr>\n",
       "      <th>4</th>\n",
       "      <td>Poznan</td>\n",
       "      <td>543</td>\n",
       "      <td>Wielkopolskie</td>\n",
       "      <td>0.543</td>\n",
       "    </tr>\n",
       "    <tr>\n",
       "      <th>5</th>\n",
       "      <td>Lodz</td>\n",
       "      <td>667</td>\n",
       "      <td>Lodzkie</td>\n",
       "      <td>0.667</td>\n",
       "    </tr>\n",
       "    <tr>\n",
       "      <th>6</th>\n",
       "      <td>Pruszkow</td>\n",
       "      <td>62</td>\n",
       "      <td>Mazowieckie</td>\n",
       "      <td>0.062</td>\n",
       "    </tr>\n",
       "    <tr>\n",
       "      <th>7</th>\n",
       "      <td>Gdansk</td>\n",
       "      <td>470</td>\n",
       "      <td>Pomorskie</td>\n",
       "      <td>0.470</td>\n",
       "    </tr>\n",
       "    <tr>\n",
       "      <th>8</th>\n",
       "      <td>Wroclaw</td>\n",
       "      <td>642</td>\n",
       "      <td>Dolnoslaskie</td>\n",
       "      <td>0.642</td>\n",
       "    </tr>\n",
       "  </tbody>\n",
       "</table>\n",
       "</div>"
      ],
      "text/plain": [
       "            city  pop (thousand)     voivodship  pop (million)\n",
       "0       Warszawa            1790    Mazowieckie          1.790\n",
       "1         Lublin             337      Lubelskie          0.337\n",
       "2  Grodzisk Maz.              32    Mazowieckie          0.032\n",
       "3         Krakow             780    Malopolskie          0.780\n",
       "4         Poznan             543  Wielkopolskie          0.543\n",
       "5           Lodz             667        Lodzkie          0.667\n",
       "6       Pruszkow              62    Mazowieckie          0.062\n",
       "7         Gdansk             470      Pomorskie          0.470\n",
       "8        Wroclaw             642   Dolnoslaskie          0.642"
      ]
     },
     "execution_count": 85,
     "metadata": {},
     "output_type": "execute_result"
    }
   ],
   "source": [
    "df2['pop (million)'] = df2['pop (thousand)'].map(lambda x: x/1000)\n",
    "df2"
   ]
  },
  {
   "cell_type": "code",
   "execution_count": 86,
   "metadata": {},
   "outputs": [
    {
     "data": {
      "text/html": [
       "<div>\n",
       "<style scoped>\n",
       "    .dataframe tbody tr th:only-of-type {\n",
       "        vertical-align: middle;\n",
       "    }\n",
       "\n",
       "    .dataframe tbody tr th {\n",
       "        vertical-align: top;\n",
       "    }\n",
       "\n",
       "    .dataframe thead th {\n",
       "        text-align: right;\n",
       "    }\n",
       "</style>\n",
       "<table border=\"1\" class=\"dataframe\">\n",
       "  <thead>\n",
       "    <tr style=\"text-align: right;\">\n",
       "      <th></th>\n",
       "      <th>city</th>\n",
       "      <th>pop (thousand)</th>\n",
       "      <th>voivodship</th>\n",
       "      <th>pop (million)</th>\n",
       "    </tr>\n",
       "  </thead>\n",
       "  <tbody>\n",
       "    <tr>\n",
       "      <th>0</th>\n",
       "      <td>Warszawa</td>\n",
       "      <td>1790</td>\n",
       "      <td>mazowieckie</td>\n",
       "      <td>1.790</td>\n",
       "    </tr>\n",
       "    <tr>\n",
       "      <th>1</th>\n",
       "      <td>Lublin</td>\n",
       "      <td>337</td>\n",
       "      <td>lubelskie</td>\n",
       "      <td>0.337</td>\n",
       "    </tr>\n",
       "    <tr>\n",
       "      <th>2</th>\n",
       "      <td>Grodzisk Maz.</td>\n",
       "      <td>32</td>\n",
       "      <td>mazowieckie</td>\n",
       "      <td>0.032</td>\n",
       "    </tr>\n",
       "    <tr>\n",
       "      <th>3</th>\n",
       "      <td>Krakow</td>\n",
       "      <td>780</td>\n",
       "      <td>malopolskie</td>\n",
       "      <td>0.780</td>\n",
       "    </tr>\n",
       "    <tr>\n",
       "      <th>4</th>\n",
       "      <td>Poznan</td>\n",
       "      <td>543</td>\n",
       "      <td>wielkopolskie</td>\n",
       "      <td>0.543</td>\n",
       "    </tr>\n",
       "    <tr>\n",
       "      <th>5</th>\n",
       "      <td>Lodz</td>\n",
       "      <td>667</td>\n",
       "      <td>lodzkie</td>\n",
       "      <td>0.667</td>\n",
       "    </tr>\n",
       "    <tr>\n",
       "      <th>6</th>\n",
       "      <td>Pruszkow</td>\n",
       "      <td>62</td>\n",
       "      <td>mazowieckie</td>\n",
       "      <td>0.062</td>\n",
       "    </tr>\n",
       "    <tr>\n",
       "      <th>7</th>\n",
       "      <td>Gdansk</td>\n",
       "      <td>470</td>\n",
       "      <td>pomorskie</td>\n",
       "      <td>0.470</td>\n",
       "    </tr>\n",
       "    <tr>\n",
       "      <th>8</th>\n",
       "      <td>Wroclaw</td>\n",
       "      <td>642</td>\n",
       "      <td>dolnoslaskie</td>\n",
       "      <td>0.642</td>\n",
       "    </tr>\n",
       "  </tbody>\n",
       "</table>\n",
       "</div>"
      ],
      "text/plain": [
       "            city  pop (thousand)     voivodship  pop (million)\n",
       "0       Warszawa            1790    mazowieckie          1.790\n",
       "1         Lublin             337      lubelskie          0.337\n",
       "2  Grodzisk Maz.              32    mazowieckie          0.032\n",
       "3         Krakow             780    malopolskie          0.780\n",
       "4         Poznan             543  wielkopolskie          0.543\n",
       "5           Lodz             667        lodzkie          0.667\n",
       "6       Pruszkow              62    mazowieckie          0.062\n",
       "7         Gdansk             470      pomorskie          0.470\n",
       "8        Wroclaw             642   dolnoslaskie          0.642"
      ]
     },
     "execution_count": 86,
     "metadata": {},
     "output_type": "execute_result"
    }
   ],
   "source": [
    "df2['voivodship'] = df2['voivodship'].str.lower()\n",
    "df2"
   ]
  },
  {
   "cell_type": "code",
   "execution_count": 87,
   "metadata": {},
   "outputs": [
    {
     "data": {
      "text/html": [
       "<div>\n",
       "<style scoped>\n",
       "    .dataframe tbody tr th:only-of-type {\n",
       "        vertical-align: middle;\n",
       "    }\n",
       "\n",
       "    .dataframe tbody tr th {\n",
       "        vertical-align: top;\n",
       "    }\n",
       "\n",
       "    .dataframe thead th {\n",
       "        text-align: right;\n",
       "    }\n",
       "</style>\n",
       "<table border=\"1\" class=\"dataframe\">\n",
       "  <thead>\n",
       "    <tr style=\"text-align: right;\">\n",
       "      <th></th>\n",
       "      <th>city</th>\n",
       "      <th>pop (thousand)</th>\n",
       "      <th>voivodship</th>\n",
       "      <th>pop (million)</th>\n",
       "    </tr>\n",
       "  </thead>\n",
       "  <tbody>\n",
       "    <tr>\n",
       "      <th>0</th>\n",
       "      <td>Warszawa</td>\n",
       "      <td>1790</td>\n",
       "      <td>mazowieckie</td>\n",
       "      <td>1.790</td>\n",
       "    </tr>\n",
       "    <tr>\n",
       "      <th>1</th>\n",
       "      <td>Lublin</td>\n",
       "      <td>337</td>\n",
       "      <td>lubelskie</td>\n",
       "      <td>0.337</td>\n",
       "    </tr>\n",
       "    <tr>\n",
       "      <th>2</th>\n",
       "      <td>Grodzisk Maz.</td>\n",
       "      <td>32</td>\n",
       "      <td>mazowieckie</td>\n",
       "      <td>0.032</td>\n",
       "    </tr>\n",
       "    <tr>\n",
       "      <th>3</th>\n",
       "      <td>Krakow</td>\n",
       "      <td>780</td>\n",
       "      <td>malopolskie</td>\n",
       "      <td>0.780</td>\n",
       "    </tr>\n",
       "    <tr>\n",
       "      <th>4</th>\n",
       "      <td>Poznan</td>\n",
       "      <td>543</td>\n",
       "      <td>wielkopolskie</td>\n",
       "      <td>0.543</td>\n",
       "    </tr>\n",
       "    <tr>\n",
       "      <th>5</th>\n",
       "      <td>Lodz</td>\n",
       "      <td>667</td>\n",
       "      <td>lodzkie</td>\n",
       "      <td>0.667</td>\n",
       "    </tr>\n",
       "    <tr>\n",
       "      <th>6</th>\n",
       "      <td>Pruszkow</td>\n",
       "      <td>62</td>\n",
       "      <td>mazowieckie</td>\n",
       "      <td>0.062</td>\n",
       "    </tr>\n",
       "    <tr>\n",
       "      <th>7</th>\n",
       "      <td>Gdansk</td>\n",
       "      <td>470</td>\n",
       "      <td>pomorskie</td>\n",
       "      <td>0.470</td>\n",
       "    </tr>\n",
       "    <tr>\n",
       "      <th>8</th>\n",
       "      <td>Wroclaw</td>\n",
       "      <td>642</td>\n",
       "      <td>dolnoslaskie</td>\n",
       "      <td>0.642</td>\n",
       "    </tr>\n",
       "  </tbody>\n",
       "</table>\n",
       "</div>"
      ],
      "text/plain": [
       "            city  pop (thousand)     voivodship  pop (million)\n",
       "0       Warszawa            1790    mazowieckie          1.790\n",
       "1         Lublin             337      lubelskie          0.337\n",
       "2  Grodzisk Maz.              32    mazowieckie          0.032\n",
       "3         Krakow             780    malopolskie          0.780\n",
       "4         Poznan             543  wielkopolskie          0.543\n",
       "5           Lodz             667        lodzkie          0.667\n",
       "6       Pruszkow              62    mazowieckie          0.062\n",
       "7         Gdansk             470      pomorskie          0.470\n",
       "8        Wroclaw             642   dolnoslaskie          0.642"
      ]
     },
     "execution_count": 87,
     "metadata": {},
     "output_type": "execute_result"
    }
   ],
   "source": [
    "df2.replace({'mazowieckie':'stoleczne', 'wielkoposkie':'wielkopolskie'})\n",
    "df2"
   ]
  },
  {
   "cell_type": "code",
   "execution_count": 88,
   "metadata": {},
   "outputs": [
    {
     "data": {
      "text/html": [
       "<div>\n",
       "<style scoped>\n",
       "    .dataframe tbody tr th:only-of-type {\n",
       "        vertical-align: middle;\n",
       "    }\n",
       "\n",
       "    .dataframe tbody tr th {\n",
       "        vertical-align: top;\n",
       "    }\n",
       "\n",
       "    .dataframe thead th {\n",
       "        text-align: right;\n",
       "    }\n",
       "</style>\n",
       "<table border=\"1\" class=\"dataframe\">\n",
       "  <thead>\n",
       "    <tr style=\"text-align: right;\">\n",
       "      <th></th>\n",
       "      <th>city</th>\n",
       "      <th>pop (thousand)</th>\n",
       "      <th>voivodship</th>\n",
       "      <th>pop (million)</th>\n",
       "    </tr>\n",
       "  </thead>\n",
       "  <tbody>\n",
       "    <tr>\n",
       "      <th>0</th>\n",
       "      <td>Warszawa</td>\n",
       "      <td>1790</td>\n",
       "      <td>stoleczne</td>\n",
       "      <td>1.790</td>\n",
       "    </tr>\n",
       "    <tr>\n",
       "      <th>1</th>\n",
       "      <td>Lublin</td>\n",
       "      <td>337</td>\n",
       "      <td>lubelskie</td>\n",
       "      <td>0.337</td>\n",
       "    </tr>\n",
       "    <tr>\n",
       "      <th>2</th>\n",
       "      <td>Grodzisk Maz.</td>\n",
       "      <td>32</td>\n",
       "      <td>stoleczne</td>\n",
       "      <td>0.032</td>\n",
       "    </tr>\n",
       "    <tr>\n",
       "      <th>3</th>\n",
       "      <td>Krakow</td>\n",
       "      <td>780</td>\n",
       "      <td>malopolskie</td>\n",
       "      <td>0.780</td>\n",
       "    </tr>\n",
       "    <tr>\n",
       "      <th>4</th>\n",
       "      <td>Poznan</td>\n",
       "      <td>543</td>\n",
       "      <td>poznanskie</td>\n",
       "      <td>0.543</td>\n",
       "    </tr>\n",
       "    <tr>\n",
       "      <th>5</th>\n",
       "      <td>Lodz</td>\n",
       "      <td>667</td>\n",
       "      <td>lodzkie</td>\n",
       "      <td>0.667</td>\n",
       "    </tr>\n",
       "    <tr>\n",
       "      <th>6</th>\n",
       "      <td>Pruszkow</td>\n",
       "      <td>62</td>\n",
       "      <td>stoleczne</td>\n",
       "      <td>0.062</td>\n",
       "    </tr>\n",
       "    <tr>\n",
       "      <th>7</th>\n",
       "      <td>Gdansk</td>\n",
       "      <td>470</td>\n",
       "      <td>pomorskie</td>\n",
       "      <td>0.470</td>\n",
       "    </tr>\n",
       "    <tr>\n",
       "      <th>8</th>\n",
       "      <td>Wroclaw</td>\n",
       "      <td>642</td>\n",
       "      <td>dolnoslaskie</td>\n",
       "      <td>0.642</td>\n",
       "    </tr>\n",
       "  </tbody>\n",
       "</table>\n",
       "</div>"
      ],
      "text/plain": [
       "            city  pop (thousand)    voivodship  pop (million)\n",
       "0       Warszawa            1790     stoleczne          1.790\n",
       "1         Lublin             337     lubelskie          0.337\n",
       "2  Grodzisk Maz.              32     stoleczne          0.032\n",
       "3         Krakow             780   malopolskie          0.780\n",
       "4         Poznan             543    poznanskie          0.543\n",
       "5           Lodz             667       lodzkie          0.667\n",
       "6       Pruszkow              62     stoleczne          0.062\n",
       "7         Gdansk             470     pomorskie          0.470\n",
       "8        Wroclaw             642  dolnoslaskie          0.642"
      ]
     },
     "execution_count": 88,
     "metadata": {},
     "output_type": "execute_result"
    }
   ],
   "source": [
    "df2.replace(['mazowieckie', 'wielkopolskie'], ['stoleczne', 'poznanskie'])"
   ]
  },
  {
   "cell_type": "code",
   "execution_count": 89,
   "metadata": {},
   "outputs": [
    {
     "data": {
      "text/html": [
       "<div>\n",
       "<style scoped>\n",
       "    .dataframe tbody tr th:only-of-type {\n",
       "        vertical-align: middle;\n",
       "    }\n",
       "\n",
       "    .dataframe tbody tr th {\n",
       "        vertical-align: top;\n",
       "    }\n",
       "\n",
       "    .dataframe thead th {\n",
       "        text-align: right;\n",
       "    }\n",
       "</style>\n",
       "<table border=\"1\" class=\"dataframe\">\n",
       "  <thead>\n",
       "    <tr style=\"text-align: right;\">\n",
       "      <th></th>\n",
       "      <th>City</th>\n",
       "      <th>Pop (Thousand)</th>\n",
       "      <th>Voivodship</th>\n",
       "      <th>Pop (Million)</th>\n",
       "    </tr>\n",
       "  </thead>\n",
       "  <tbody>\n",
       "    <tr>\n",
       "      <th>0</th>\n",
       "      <td>Warszawa</td>\n",
       "      <td>1790</td>\n",
       "      <td>mazowieckie</td>\n",
       "      <td>1.790</td>\n",
       "    </tr>\n",
       "    <tr>\n",
       "      <th>10</th>\n",
       "      <td>Lublin</td>\n",
       "      <td>337</td>\n",
       "      <td>lubelskie</td>\n",
       "      <td>0.337</td>\n",
       "    </tr>\n",
       "    <tr>\n",
       "      <th>20</th>\n",
       "      <td>Grodzisk Maz.</td>\n",
       "      <td>32</td>\n",
       "      <td>mazowieckie</td>\n",
       "      <td>0.032</td>\n",
       "    </tr>\n",
       "    <tr>\n",
       "      <th>30</th>\n",
       "      <td>Krakow</td>\n",
       "      <td>780</td>\n",
       "      <td>malopolskie</td>\n",
       "      <td>0.780</td>\n",
       "    </tr>\n",
       "    <tr>\n",
       "      <th>40</th>\n",
       "      <td>Poznan</td>\n",
       "      <td>543</td>\n",
       "      <td>wielkopolskie</td>\n",
       "      <td>0.543</td>\n",
       "    </tr>\n",
       "    <tr>\n",
       "      <th>50</th>\n",
       "      <td>Lodz</td>\n",
       "      <td>667</td>\n",
       "      <td>lodzkie</td>\n",
       "      <td>0.667</td>\n",
       "    </tr>\n",
       "    <tr>\n",
       "      <th>60</th>\n",
       "      <td>Pruszkow</td>\n",
       "      <td>62</td>\n",
       "      <td>mazowieckie</td>\n",
       "      <td>0.062</td>\n",
       "    </tr>\n",
       "    <tr>\n",
       "      <th>70</th>\n",
       "      <td>Gdansk</td>\n",
       "      <td>470</td>\n",
       "      <td>pomorskie</td>\n",
       "      <td>0.470</td>\n",
       "    </tr>\n",
       "    <tr>\n",
       "      <th>80</th>\n",
       "      <td>Wroclaw</td>\n",
       "      <td>642</td>\n",
       "      <td>dolnoslaskie</td>\n",
       "      <td>0.642</td>\n",
       "    </tr>\n",
       "  </tbody>\n",
       "</table>\n",
       "</div>"
      ],
      "text/plain": [
       "             City  Pop (Thousand)     Voivodship  Pop (Million)\n",
       "0        Warszawa            1790    mazowieckie          1.790\n",
       "10         Lublin             337      lubelskie          0.337\n",
       "20  Grodzisk Maz.              32    mazowieckie          0.032\n",
       "30         Krakow             780    malopolskie          0.780\n",
       "40         Poznan             543  wielkopolskie          0.543\n",
       "50           Lodz             667        lodzkie          0.667\n",
       "60       Pruszkow              62    mazowieckie          0.062\n",
       "70         Gdansk             470      pomorskie          0.470\n",
       "80        Wroclaw             642   dolnoslaskie          0.642"
      ]
     },
     "execution_count": 89,
     "metadata": {},
     "output_type": "execute_result"
    }
   ],
   "source": [
    "df2.rename(index=lambda x: x*10, columns=str.title)"
   ]
  },
  {
   "cell_type": "code",
   "execution_count": 90,
   "metadata": {},
   "outputs": [
    {
     "data": {
      "text/plain": [
       "([NaN, (100.0, 500.0], NaN, (500.0, 1000.0], (500.0, 1000.0], (500.0, 1000.0], (50.0, 100.0], (100.0, 500.0], (500.0, 1000.0]]\n",
       " Categories (3, interval[int64, right]): [(50, 100] < (100, 500] < (500, 1000]],\n",
       " array([-1,  1, -1,  2,  2,  2,  0,  1,  2], dtype=int8))"
      ]
     },
     "execution_count": 90,
     "metadata": {},
     "output_type": "execute_result"
    }
   ],
   "source": [
    "populationBins = [50, 100, 500, 1000]\n",
    "cats = pd.cut(list(df2['pop (thousand)']), populationBins)\n",
    "cats, cats.codes"
   ]
  },
  {
   "cell_type": "code",
   "execution_count": 100,
   "metadata": {},
   "outputs": [
    {
     "data": {
      "text/plain": [
       "([(1000.0, inf], (100.0, 500.0], (0.0, 50.0], (500.0, 1000.0], (500.0, 1000.0], (500.0, 1000.0], (50.0, 100.0], (100.0, 500.0], (500.0, 1000.0]]\n",
       " Categories (5, interval[float64, right]): [(0.0, 50.0] < (50.0, 100.0] < (100.0, 500.0] < (500.0, 1000.0] < (1000.0, inf]],\n",
       " array([4, 2, 0, 3, 3, 3, 1, 2, 3], dtype=int8))"
      ]
     },
     "execution_count": 100,
     "metadata": {},
     "output_type": "execute_result"
    }
   ],
   "source": [
    "correctedBins = [0, 50, 100, 500, 1000, float(\"inf\")]\n",
    "popCats = ['<50', '<100', '<500', '<1000', 'over 1000']\n",
    "cats = pd.cut(list(df2['pop (thousand)']), correctedBins)\n",
    "cats, cats.codes"
   ]
  },
  {
   "cell_type": "code",
   "execution_count": 103,
   "metadata": {},
   "outputs": [
    {
     "data": {
      "text/html": [
       "<div>\n",
       "<style scoped>\n",
       "    .dataframe tbody tr th:only-of-type {\n",
       "        vertical-align: middle;\n",
       "    }\n",
       "\n",
       "    .dataframe tbody tr th {\n",
       "        vertical-align: top;\n",
       "    }\n",
       "\n",
       "    .dataframe thead th {\n",
       "        text-align: right;\n",
       "    }\n",
       "</style>\n",
       "<table border=\"1\" class=\"dataframe\">\n",
       "  <thead>\n",
       "    <tr style=\"text-align: right;\">\n",
       "      <th></th>\n",
       "      <th>city</th>\n",
       "      <th>pop (thousand)</th>\n",
       "      <th>voivodship</th>\n",
       "      <th>pop (million)</th>\n",
       "      <th>pop category</th>\n",
       "    </tr>\n",
       "  </thead>\n",
       "  <tbody>\n",
       "    <tr>\n",
       "      <th>0</th>\n",
       "      <td>Warszawa</td>\n",
       "      <td>1790</td>\n",
       "      <td>mazowieckie</td>\n",
       "      <td>1.790</td>\n",
       "      <td>over 1000</td>\n",
       "    </tr>\n",
       "    <tr>\n",
       "      <th>1</th>\n",
       "      <td>Lublin</td>\n",
       "      <td>337</td>\n",
       "      <td>lubelskie</td>\n",
       "      <td>0.337</td>\n",
       "      <td>&lt;500</td>\n",
       "    </tr>\n",
       "    <tr>\n",
       "      <th>2</th>\n",
       "      <td>Grodzisk Maz.</td>\n",
       "      <td>32</td>\n",
       "      <td>mazowieckie</td>\n",
       "      <td>0.032</td>\n",
       "      <td>&lt;50</td>\n",
       "    </tr>\n",
       "    <tr>\n",
       "      <th>3</th>\n",
       "      <td>Krakow</td>\n",
       "      <td>780</td>\n",
       "      <td>malopolskie</td>\n",
       "      <td>0.780</td>\n",
       "      <td>&lt;1000</td>\n",
       "    </tr>\n",
       "    <tr>\n",
       "      <th>4</th>\n",
       "      <td>Poznan</td>\n",
       "      <td>543</td>\n",
       "      <td>wielkopolskie</td>\n",
       "      <td>0.543</td>\n",
       "      <td>&lt;1000</td>\n",
       "    </tr>\n",
       "    <tr>\n",
       "      <th>5</th>\n",
       "      <td>Lodz</td>\n",
       "      <td>667</td>\n",
       "      <td>lodzkie</td>\n",
       "      <td>0.667</td>\n",
       "      <td>&lt;1000</td>\n",
       "    </tr>\n",
       "    <tr>\n",
       "      <th>6</th>\n",
       "      <td>Pruszkow</td>\n",
       "      <td>62</td>\n",
       "      <td>mazowieckie</td>\n",
       "      <td>0.062</td>\n",
       "      <td>&lt;100</td>\n",
       "    </tr>\n",
       "    <tr>\n",
       "      <th>7</th>\n",
       "      <td>Gdansk</td>\n",
       "      <td>470</td>\n",
       "      <td>pomorskie</td>\n",
       "      <td>0.470</td>\n",
       "      <td>&lt;500</td>\n",
       "    </tr>\n",
       "    <tr>\n",
       "      <th>8</th>\n",
       "      <td>Wroclaw</td>\n",
       "      <td>642</td>\n",
       "      <td>dolnoslaskie</td>\n",
       "      <td>0.642</td>\n",
       "      <td>&lt;1000</td>\n",
       "    </tr>\n",
       "  </tbody>\n",
       "</table>\n",
       "</div>"
      ],
      "text/plain": [
       "            city  pop (thousand)     voivodship  pop (million) pop category\n",
       "0       Warszawa            1790    mazowieckie          1.790    over 1000\n",
       "1         Lublin             337      lubelskie          0.337         <500\n",
       "2  Grodzisk Maz.              32    mazowieckie          0.032          <50\n",
       "3         Krakow             780    malopolskie          0.780        <1000\n",
       "4         Poznan             543  wielkopolskie          0.543        <1000\n",
       "5           Lodz             667        lodzkie          0.667        <1000\n",
       "6       Pruszkow              62    mazowieckie          0.062         <100\n",
       "7         Gdansk             470      pomorskie          0.470         <500\n",
       "8        Wroclaw             642   dolnoslaskie          0.642        <1000"
      ]
     },
     "execution_count": 103,
     "metadata": {},
     "output_type": "execute_result"
    }
   ],
   "source": [
    "df2['pop category'] = pd.Series(cats.codes)\n",
    "# df2.replace(df2['pop category'], pd.Series(cats.codes))\n",
    "df2['pop category'] = df2['pop category'].replace(range(5), list(popCats))\n",
    "df2"
   ]
  },
  {
   "cell_type": "code",
   "execution_count": 104,
   "metadata": {},
   "outputs": [
    {
     "data": {
      "text/plain": [
       "(500.0, 1000.0]    4\n",
       "(100.0, 500.0]     2\n",
       "(0.0, 50.0]        1\n",
       "(50.0, 100.0]      1\n",
       "(1000.0, inf]      1\n",
       "dtype: int64"
      ]
     },
     "execution_count": 104,
     "metadata": {},
     "output_type": "execute_result"
    }
   ],
   "source": [
    "pd.value_counts(cats)"
   ]
  }
 ],
 "metadata": {
  "interpreter": {
   "hash": "30dbc02b34a845521c0dc2742b688b01ef8e7c844b5fd6699b1781d11be03b5d"
  },
  "kernelspec": {
   "display_name": "Python 3.10.2 64-bit",
   "language": "python",
   "name": "python3"
  },
  "language_info": {
   "codemirror_mode": {
    "name": "ipython",
    "version": 3
   },
   "file_extension": ".py",
   "mimetype": "text/x-python",
   "name": "python",
   "nbconvert_exporter": "python",
   "pygments_lexer": "ipython3",
   "version": "3.10.2"
  },
  "orig_nbformat": 4
 },
 "nbformat": 4,
 "nbformat_minor": 2
}
